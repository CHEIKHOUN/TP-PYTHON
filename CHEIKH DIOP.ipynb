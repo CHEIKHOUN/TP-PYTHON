{
 "cells": [
  {
   "cell_type": "markdown",
   "id": "a2b80c02",
   "metadata": {},
   "source": [
    "# exo1"
   ]
  },
  {
   "cell_type": "code",
   "execution_count": 3,
   "id": "241409df",
   "metadata": {},
   "outputs": [
    {
     "name": "stdout",
     "output_type": "stream",
     "text": [
      "entrer the first number : 15\n",
      "entrer the second number : 67\n",
      "entrer the third number : 23\n",
      "67 est le max\n"
     ]
    }
   ],
   "source": [
    "n=int(input(\"entrer the first number : \"))\n",
    "s=int(input(\"entrer the second number : \"))\n",
    "f=int(input(\"entrer the third number : \"))\n",
    "if n>s and n>f:\n",
    "    print(n, \"est le max\")\n",
    "if s>n and s>f:\n",
    "    print(s,\"est le max\")\n",
    "if f>n and f>s:\n",
    "    print(f ,\"est le max\")"
   ]
  },
  {
   "cell_type": "markdown",
   "id": "7faab0c1",
   "metadata": {},
   "source": [
    "# exo2"
   ]
  },
  {
   "cell_type": "code",
   "execution_count": 6,
   "id": "3d7f2590",
   "metadata": {},
   "outputs": [
    {
     "name": "stdout",
     "output_type": "stream",
     "text": [
      "entrer la lettre que vous vouler:  f\n",
      "f est un consonne\n"
     ]
    }
   ],
   "source": [
    "j=input(\"entrer la lettre que vous vouler:  \")\n",
    "if j==\"a\" or j==\"i\" or j==\"u\" or j==\"o\" or j==\"e\":\n",
    "    print(j,\"est un voyelle\")\n",
    "else:\n",
    "    print(j,\"est un consonne\")\n",
    "    "
   ]
  },
  {
   "cell_type": "markdown",
   "id": "4af66a07",
   "metadata": {},
   "source": [
    "# exo3"
   ]
  },
  {
   "cell_type": "code",
   "execution_count": 1,
   "id": "e6a2d6d0",
   "metadata": {},
   "outputs": [
    {
     "name": "stdout",
     "output_type": "stream",
     "text": [
      "entrer le numero que vous vouler :5\n",
      "vendredi\n",
      " veuiller entrer le bon numero :\n"
     ]
    }
   ],
   "source": [
    "o=int(input(\"entrer le numero que vous vouler :\"))\n",
    "if o==1:\n",
    "    print(\"lundi\")\n",
    "if o==2:\n",
    "    print(\"mardi\")\n",
    "if o==3:\n",
    "    print(\"mercredi\")\n",
    "if o==4:\n",
    "    print(\"jeudi\")\n",
    "if o==5:\n",
    "    print(\"vendredi\")\n",
    "if o==6:\n",
    "    print(\"samedi\")\n",
    "if o==7:\n",
    "    print(\"dimanche\")\n",
    "else :\n",
    "    print(\" veuiller entrer le bon numero :\")"
   ]
  },
  {
   "cell_type": "markdown",
   "id": "78ff2ef8",
   "metadata": {},
   "source": [
    "# EXO4"
   ]
  },
  {
   "cell_type": "code",
   "execution_count": 14,
   "id": "e14361ca",
   "metadata": {},
   "outputs": [
    {
     "name": "stdout",
     "output_type": "stream",
     "text": [
      "veuiller entrer l'annee que desierer savoir s'il d'annee bissecsitile :   1996\n",
      "1996 n'est pas une annee bisectitille\n",
      "1996 n'est pas une annee bisectitille\n"
     ]
    }
   ],
   "source": [
    "jip=int(input(\"veuiller entrer l'annee que desierer savoir s'il d'annee bissecsitile :   \"))\n",
    "if jip%4==0 and \n",
    "    if jip%400==0  and jip%100!=0:\n",
    "    print(jip,\"est une annee bisectitille \" )\n",
    "else:\n",
    "    print(jip,\"n'est pas une annee bisectitille\")\n",
    "  \n"
   ]
  },
  {
   "cell_type": "markdown",
   "id": "57106eb8",
   "metadata": {},
   "source": [
    "# exo5"
   ]
  },
  {
   "cell_type": "code",
   "execution_count": 9,
   "id": "821e10d4",
   "metadata": {},
   "outputs": [
    {
     "name": "stdout",
     "output_type": "stream",
     "text": [
      "entrer le nombre d'etoile: 5\n",
      "1 *\n",
      "2 *\n",
      "3 *\n",
      "4 *\n"
     ]
    }
   ],
   "source": [
    "e=int(input(\"entrer le nombre d'etoile: \"))\n",
    "for i in range(1,e):\n",
    "    print(i,\"*\")\n"
   ]
  },
  {
   "cell_type": "markdown",
   "id": "efbaa1bb",
   "metadata": {},
   "source": [
    "# exo6"
   ]
  },
  {
   "cell_type": "code",
   "execution_count": 7,
   "id": "4c429df0",
   "metadata": {},
   "outputs": [
    {
     "name": "stdout",
     "output_type": "stream",
     "text": [
      "veullez saisie le nombre de ligne:6\n",
      "     *\n",
      "    ***\n",
      "   *****\n",
      "  *******\n",
      " *********\n",
      "***********\n"
     ]
    }
   ],
   "source": [
    "L=int(input(\"veullez saisie le nombre de ligne:\"))\n",
    "for i in range(1,L+1):\n",
    "    for j in range (1,L-i+1):\n",
    "        print(\" \",end=\"\")\n",
    "    for j in range(1,2*i-1+1):\n",
    "        print(\"*\",end=\"\")\n",
    "    print()"
   ]
  },
  {
   "cell_type": "markdown",
   "id": "53ba865b",
   "metadata": {},
   "source": [
    "# exo7"
   ]
  },
  {
   "cell_type": "code",
   "execution_count": null,
   "id": "57d682d7",
   "metadata": {},
   "outputs": [],
   "source": []
  },
  {
   "cell_type": "code",
   "execution_count": 4,
   "id": "32be5cc4",
   "metadata": {},
   "outputs": [
    {
     "name": "stdout",
     "output_type": "stream",
     "text": [
      "entrer le motinformatique\n",
      "6 est le nombre de voiyelle de informatique\n"
     ]
    }
   ],
   "source": [
    "mo=input(\"entrer le mot\")\n",
    "nv=0\n",
    "n=len(mo)\n",
    "for i in range(0,n):\n",
    "     if mo[i] in[\"a\",\"o\",\"u\",\"e\",\"i\"]:\n",
    "            nv=nv+1\n",
    "print(nv,\"est le nombre de voiyelle de\",mo)    "
   ]
  },
  {
   "cell_type": "markdown",
   "id": "485629ba",
   "metadata": {},
   "source": [
    "# exo8"
   ]
  },
  {
   "cell_type": "code",
   "execution_count": null,
   "id": "3f1d61f0",
   "metadata": {},
   "outputs": [],
   "source": []
  },
  {
   "cell_type": "code",
   "execution_count": 25,
   "id": "8c0df348",
   "metadata": {},
   "outputs": [
    {
     "name": "stdout",
     "output_type": "stream",
     "text": [
      "say hello: hello\n",
      "18 17 16\n",
      "15 14 13\n",
      "12 11 10\n",
      "9 8 7\n",
      "6 5 4\n",
      "3 2 1\n"
     ]
    }
   ],
   "source": [
    "input((\"say hello: \"))\n",
    "i=0\n",
    "while i<6:\n",
    "        i=i+1\n",
    "        if i==1:\n",
    "            a=18\n",
    "            b=17\n",
    "            c=16\n",
    "            print(a,b,c)\n",
    "        if i==2:\n",
    "            d=15\n",
    "            f=14\n",
    "            k=13\n",
    "            print(d,f,k)\n",
    "        if i==3:\n",
    "            g=12\n",
    "            l=11\n",
    "            b=10\n",
    "            print(g,l,b)\n",
    "        if i==4:\n",
    "            h=9\n",
    "            s=8\n",
    "            j=7\n",
    "            print(h,s,j)\n",
    "        if i==5:\n",
    "            m=6\n",
    "            e=5\n",
    "            q=4\n",
    "            print(m,e,q)\n",
    "        if i==6:\n",
    "            n=3\n",
    "            y=2\n",
    "            w=1\n",
    "            print(n,y,w)\n",
    "            \n",
    "\n",
    "\n",
    "    \n"
   ]
  },
  {
   "cell_type": "markdown",
   "id": "f96df870",
   "metadata": {},
   "source": [
    "# exo9"
   ]
  },
  {
   "cell_type": "code",
   "execution_count": 37,
   "id": "b78972f4",
   "metadata": {},
   "outputs": [
    {
     "name": "stdout",
     "output_type": "stream",
     "text": [
      "note 1: 3\n",
      "note 2: 4\n",
      "note 3: 5\n",
      "note 4: 6\n",
      "note 5: 7\n",
      "note 6: 8\n",
      "note 7: 9\n",
      "note 8: 12\n",
      "note 9: 13\n",
      "note 1o: 14\n",
      "68.4 est la moyenne\n",
      "14 est le maximale\n",
      "13 est le minimale\n"
     ]
    }
   ],
   "source": [
    "a=int(input(\"note 1: \"))\n",
    "b=int(input(\"note 2: \"))\n",
    "c=int(input(\"note 3: \"))\n",
    "d=int(input(\"note 4: \"))\n",
    "e=int(input(\"note 5: \"))\n",
    "f=int(input(\"note 6: \"))\n",
    "g=int(input(\"note 7: \"))\n",
    "h=int(input(\"note 8: \"))\n",
    "i=int(input(\"note 9: \"))\n",
    "j=int(input(\"note 1o: \"))\n",
    "max=0\n",
    "min=0      \n",
    "moy=a+b+c+d+e+f+g+h+i+j/10\n",
    "print(moy,\"est la moyenne\")\n",
    "      \n",
    "if a>b and a>c and a>d and a>e and a>f and a>g and a>h and a>i and a>j:\n",
    "    max=a\n",
    "else:\n",
    "    min=a\n",
    "if b>a and b>c and b>d and b>e and b>f and b>g and b>h and b>i and b>j:\n",
    "    max=b\n",
    "else:\n",
    "    min=b\n",
    "if c>a and c>b and c>d and c>e and c>f and c>g and c>h and c>i and c>j:\n",
    "    max=c\n",
    "else:\n",
    "    min=c\n",
    "if d>a and d>b and d>c and d>e and d>f and d>g and d>h and d>i and d>j:\n",
    "    max=d\n",
    "else:\n",
    "    min=d\n",
    "if e>a and e>b and e>c and e>d and e>f and e>g and e>h and e>i and e>j:\n",
    "    max=e\n",
    "else:\n",
    "    min=e\n",
    "if f>a and f>b and f>d and f>e and f>c and f>g and f>h and f>i and f>j:\n",
    "    max=f\n",
    "else:\n",
    "    min=f\n",
    "if g>a and g>b and g>d and g>e and g>f and g>c and g>h and g>i and g>j:\n",
    "    max=g\n",
    "else:\n",
    "    min=g\n",
    "if h>a and h>c and h>d and h>e and h>f and h>g and h>b and h>i and h>j:\n",
    "    max=h\n",
    "else:\n",
    "    min=h\n",
    "if i>a and i>b and i>c and i>d and i>e and i>f and i>g and i>h and i>j:\n",
    "    max=i\n",
    "else:\n",
    "    min=i\n",
    "if j>a and j>b and j>c and j>d and j>e and j>f and j>g and j>h and j>i:\n",
    "    max=j\n",
    "else:\n",
    "    min=j \n",
    "print(max,\"est le maximale\")\n",
    "print(min,\"est le minimale\")      "
   ]
  },
  {
   "cell_type": "markdown",
   "id": "62ba80f0",
   "metadata": {},
   "source": [
    "# exo10"
   ]
  },
  {
   "cell_type": "code",
   "execution_count": 8,
   "id": "8e0032f3",
   "metadata": {},
   "outputs": [
    {
     "name": "stdout",
     "output_type": "stream",
     "text": [
      "est ce que vous etes adulte  oui\n",
      "ok\n"
     ]
    }
   ],
   "source": [
    "question=input(\"est ce que vous etes adulte  \")\n",
    "if question == \"oui\":\n",
    "    print(\"ok\")\n",
    "else:\n",
    "    print(\"non\")\n"
   ]
  },
  {
   "cell_type": "markdown",
   "id": "23fb0929",
   "metadata": {},
   "source": [
    "# exo11"
   ]
  },
  {
   "cell_type": "code",
   "execution_count": 14,
   "id": "fbea36b8",
   "metadata": {},
   "outputs": [
    {
     "ename": "SyntaxError",
     "evalue": "unexpected EOF while parsing (<ipython-input-14-c9ce521e2fd2>, line 7)",
     "output_type": "error",
     "traceback": [
      "\u001b[1;36m  File \u001b[1;32m\"<ipython-input-14-c9ce521e2fd2>\"\u001b[1;36m, line \u001b[1;32m7\u001b[0m\n\u001b[1;33m    print(\"entre un nombre  plus grand\"\u001b[0m\n\u001b[1;37m                                       ^\u001b[0m\n\u001b[1;31mSyntaxError\u001b[0m\u001b[1;31m:\u001b[0m unexpected EOF while parsing\n"
     ]
    }
   ],
   "source": [
    "import random\n",
    "nbr_alea=random.randit(1,100)\n",
    "nbr_entrer=0\n",
    "while (nbr_enter!=nbr_alea):\n",
    "    print(\"choisi le nombre: \")\n",
    "    if i==nbr_alea:\n",
    "        print(\"entre un nombre  plus grand"
   ]
  },
  {
   "cell_type": "markdown",
   "id": "386509fd",
   "metadata": {},
   "source": [
    "# exo12"
   ]
  },
  {
   "cell_type": "code",
   "execution_count": 1,
   "id": "626c7cfe",
   "metadata": {},
   "outputs": [
    {
     "name": "stdout",
     "output_type": "stream",
     "text": [
      "donner la valeurs de a: 12\n",
      "donner la valeurs de b: 5\n",
      "la pgcd de: 12 et 5  est donc:  2\n"
     ]
    }
   ],
   "source": [
    "a=eval(input(\"donner la valeurs de a: \"))\n",
    "b=eval(input(\"donner la valeurs de b: \"))\n",
    "r=a%b\n",
    "print(\"la pgcd de:\",a,\"et\",b,\" est donc: \",r)"
   ]
  },
  {
   "cell_type": "markdown",
   "id": "3f1996b1",
   "metadata": {},
   "source": [
    "# exo13"
   ]
  },
  {
   "cell_type": "code",
   "execution_count": 2,
   "id": "2916debc",
   "metadata": {},
   "outputs": [
    {
     "name": "stdout",
     "output_type": "stream",
     "text": [
      "1 \n",
      "2 \n",
      "3 \n",
      "4 \n",
      "5 \n"
     ]
    }
   ],
   "source": [
    "for i in range(1,6):\n",
    "    print(i,end=\" \")\n",
    "    print()"
   ]
  },
  {
   "cell_type": "markdown",
   "id": "131fcbf6",
   "metadata": {},
   "source": [
    "# exo14"
   ]
  },
  {
   "cell_type": "markdown",
   "id": "757c3d6c",
   "metadata": {},
   "source": [
    "som==0\n",
    "for i in range(1;5):\n",
    "    a=int(input(\"entrer un entier\"))\n",
    "    som=som+a\n",
    "print(\"la somme des 4 premier entier est : \")"
   ]
  },
  {
   "cell_type": "markdown",
   "id": "6fdcfd22",
   "metadata": {},
   "source": [
    "# exo15"
   ]
  },
  {
   "cell_type": "code",
   "execution_count": 12,
   "id": "0711a40f",
   "metadata": {},
   "outputs": [
    {
     "name": "stdout",
     "output_type": "stream",
     "text": [
      "1 son carre est 1\n",
      "2 son carre est 4\n",
      "3 son carre est 9\n",
      "4 son carre est 16\n",
      "5 son carre est 25\n",
      "6 son carre est 36\n",
      "7 son carre est 49\n",
      "8 son carre est 64\n",
      "9 son carre est 81\n",
      "285 la somme des carres des nombre compris entrer 1 et 10\n"
     ]
    }
   ],
   "source": [
    "s=0\n",
    "for i in range(1,10):\n",
    "    carr=i *i\n",
    "    s=s+ carr\n",
    "    print(i,\"son carre est\",carr)\n",
    "print(s,\"la somme des carres des nombre compris entrer 1 et 10\")"
   ]
  },
  {
   "cell_type": "markdown",
   "id": "1744403b",
   "metadata": {},
   "source": [
    "# exo15"
   ]
  },
  {
   "cell_type": "code",
   "execution_count": 13,
   "id": "f186656c",
   "metadata": {},
   "outputs": [
    {
     "ename": "SyntaxError",
     "evalue": "invalid syntax (<ipython-input-13-50c169b7b3c7>, line 2)",
     "output_type": "error",
     "traceback": [
      "\u001b[1;36m  File \u001b[1;32m\"<ipython-input-13-50c169b7b3c7>\"\u001b[1;36m, line \u001b[1;32m2\u001b[0m\n\u001b[1;33m    for i  in range\u001b[0m\n\u001b[1;37m                   ^\u001b[0m\n\u001b[1;31mSyntaxError\u001b[0m\u001b[1;31m:\u001b[0m invalid syntax\n"
     ]
    }
   ],
   "source": [
    "so=0\n",
    "for i  in range(1,)"
   ]
  },
  {
   "cell_type": "markdown",
   "id": "946f3403",
   "metadata": {},
   "source": [
    "# exo16"
   ]
  },
  {
   "cell_type": "code",
   "execution_count": 15,
   "id": "d84f26b7",
   "metadata": {},
   "outputs": [
    {
     "name": "stdout",
     "output_type": "stream",
     "text": [
      "7\n",
      "14\n",
      "21\n",
      "28\n",
      "35\n",
      "42\n",
      "49\n",
      "56\n",
      "63\n",
      "70\n",
      "77\n",
      "84\n",
      "91\n",
      "98\n",
      "105\n",
      "112\n",
      "119\n",
      "126\n",
      "133\n",
      "140\n",
      "147\n"
     ]
    }
   ],
   "source": [
    "i=1\n",
    "while i<150:\n",
    "    i+=1\n",
    "    if (i%7==0):\n",
    "        print(i)"
   ]
  },
  {
   "cell_type": "markdown",
   "id": "e4d1bb0d",
   "metadata": {},
   "source": [
    "# exo17"
   ]
  },
  {
   "cell_type": "code",
   "execution_count": null,
   "id": "68e81fc9",
   "metadata": {},
   "outputs": [],
   "source": []
  },
  {
   "cell_type": "markdown",
   "id": "df14e98f",
   "metadata": {},
   "source": [
    "# exo18"
   ]
  },
  {
   "cell_type": "code",
   "execution_count": null,
   "id": "4553cf74",
   "metadata": {},
   "outputs": [],
   "source": []
  },
  {
   "cell_type": "markdown",
   "id": "7d054072",
   "metadata": {},
   "source": [
    "# exo19"
   ]
  },
  {
   "cell_type": "code",
   "execution_count": null,
   "id": "0d2b22f5",
   "metadata": {},
   "outputs": [],
   "source": []
  },
  {
   "cell_type": "markdown",
   "id": "d80a68f2",
   "metadata": {},
   "source": [
    "# exo20"
   ]
  },
  {
   "cell_type": "code",
   "execution_count": null,
   "id": "48e836f0",
   "metadata": {},
   "outputs": [],
   "source": []
  }
 ],
 "metadata": {
  "kernelspec": {
   "display_name": "Python 3",
   "language": "python",
   "name": "python3"
  },
  "language_info": {
   "codemirror_mode": {
    "name": "ipython",
    "version": 3
   },
   "file_extension": ".py",
   "mimetype": "text/x-python",
   "name": "python",
   "nbconvert_exporter": "python",
   "pygments_lexer": "ipython3",
   "version": "3.8.8"
  }
 },
 "nbformat": 4,
 "nbformat_minor": 5
}
